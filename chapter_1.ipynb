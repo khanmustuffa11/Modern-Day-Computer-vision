{
  "nbformat": 4,
  "nbformat_minor": 0,
  "metadata": {
    "colab": {
      "name": "chapter 1.ipynb",
      "provenance": [],
      "authorship_tag": "ABX9TyOH8OkaZWLfPTc3SmZ6GrHh",
      "include_colab_link": true
    },
    "kernelspec": {
      "name": "python3",
      "display_name": "Python 3"
    },
    "language_info": {
      "name": "python"
    }
  },
  "cells": [
    {
      "cell_type": "markdown",
      "metadata": {
        "id": "view-in-github",
        "colab_type": "text"
      },
      "source": [
        "<a href=\"https://colab.research.google.com/github/khanmustuffa11/Modern-Day-Computer-vision/blob/main/chapter_1.ipynb\" target=\"_parent\"><img src=\"https://colab.research.google.com/assets/colab-badge.svg\" alt=\"Open In Colab\"/></a>"
      ]
    },
    {
      "cell_type": "code",
      "execution_count": 34,
      "metadata": {
        "id": "igStshnfrmyZ"
      },
      "outputs": [],
      "source": [
        "import numpy as np\n",
        "from copy import deepcopy"
      ]
    },
    {
      "cell_type": "markdown",
      "source": [
        "# Feed Forward Propagation\n"
      ],
      "metadata": {
        "id": "FKSs-_0RrusO"
      }
    },
    {
      "cell_type": "code",
      "source": [
        "def feed_forward(inputs,outputs,weights):\n",
        "  pre_hidden = np.dot(inputs,weights[0])+weights[1]\n",
        "  hidden = 1/(1+np.exp(-pre_hidden))\n",
        "  pred_out = np.dot(hidden,weights[2])+weights[3]\n",
        "  mean_squared_error = np.mean(np.square(pred_out - outputs))\n",
        "  return mean_squared_error"
      ],
      "metadata": {
        "id": "mrOzMzo-rsJE"
      },
      "execution_count": 40,
      "outputs": []
    },
    {
      "cell_type": "markdown",
      "source": [
        "# Updating weights and calculating loss"
      ],
      "metadata": {
        "id": "yQDK9Eh5B4-A"
      }
    },
    {
      "cell_type": "code",
      "source": [
        "def update_weights(inputs, outputs,weights,lr):\n",
        "  original_weights = deepcopy(weights)\n",
        "  temp_weights = deepcopy(weights)\n",
        "  updated_weights = deepcopy(weights)\n",
        "  original_loss = feed_forward(inputs,outputs,original_weights)\n",
        "  for i,layer in enumerate(original_weights):\n",
        "    for index, weight in np.ndenumerate(layer):\n",
        "      temp_weights = deepcopy(weights)\n",
        "      temp_weights[i][index] += 0.0001\n",
        "      _loss_plus = feed_forward(inputs, outputs,temp_weights)\n",
        "      grad = (_loss_plus - original_loss)/(0.0001)\n",
        "      updated_weights[i][index] -= grad*lr\n",
        "      return updated_weights, original_loss\n",
        "\n"
      ],
      "metadata": {
        "id": "vPQ3C5rZt6I3"
      },
      "execution_count": 41,
      "outputs": []
    },
    {
      "cell_type": "markdown",
      "source": [
        "# feed forward and backpropagation together (Simple Neural Network)"
      ],
      "metadata": {
        "id": "szUXllr-5VgI"
      }
    },
    {
      "cell_type": "code",
      "source": [
        "import numpy as np\n",
        "from copy import deepcopy\n",
        "import matplotlib.pyplot as plt"
      ],
      "metadata": {
        "id": "CR563VID1WqE"
      },
      "execution_count": 26,
      "outputs": []
    },
    {
      "cell_type": "code",
      "source": [
        "x = np.array([[1,1]])\n",
        "y = np.array([[0]])"
      ],
      "metadata": {
        "id": "R0D_FC3Q5i9n"
      },
      "execution_count": 42,
      "outputs": []
    },
    {
      "cell_type": "code",
      "source": [
        "W = [\n",
        "    np.array([[-0.0053, 0.3793],\n",
        "              [-0.5820, -0.5204],\n",
        "              [-0.2723, 0.1896]], dtype=np.float32).T, \n",
        "    np.array([-0.0140, 0.5607, -0.0628], dtype=np.float32), \n",
        "    np.array([[ 0.1528, -0.1745, -0.1135]], dtype=np.float32).T, \n",
        "    np.array([-0.5516], dtype=np.float32)\n",
        "]"
      ],
      "metadata": {
        "id": "DcqzuxOS5vPV"
      },
      "execution_count": 32,
      "outputs": []
    },
    {
      "cell_type": "code",
      "source": [
        "losses = []\n",
        "for epoch in range(100):\n",
        "  W, loss = update_weights(x,y,W,0.01)\n",
        "  losses.append(loss)\n",
        "  plt.plot(losses)\n",
        "  plt.title('loss with increasing number of epochs')"
      ],
      "metadata": {
        "colab": {
          "base_uri": "https://localhost:8080/",
          "height": 281
        },
        "id": "vdorJDWy6S3r",
        "outputId": "a23adcf6-dba4-4780-e064-0c4306f90df6"
      },
      "execution_count": 33,
      "outputs": [
        {
          "output_type": "display_data",
          "data": {
            "image/png": "[encoded data removed]",
            "text/plain": [
              "<Figure size 432x288 with 1 Axes>"
            ]
          },
          "metadata": {
            "needs_background": "light"
          }
        }
      ]
    },
    {
      "cell_type": "code",
      "source": [
        "W"
      ],
      "metadata": {
        "colab": {
          "base_uri": "https://localhost:8080/"
        },
        "id": "u3X_Los466YP",
        "outputId": "1a1b7a4c-3276-4b16-b8e1-e8f37ea5124d"
      },
      "execution_count": 22,
      "outputs": [
        {
          "output_type": "execute_result",
          "data": {
            "text/plain": [
              "[array([[ 0.03726425, -0.582     , -0.2723    ],\n",
              "        [ 0.3793    , -0.5204    ,  0.1896    ]], dtype=float32),\n",
              " array([-0.014 ,  0.5607, -0.0628], dtype=float32),\n",
              " array([[ 0.1528],\n",
              "        [-0.1745],\n",
              "        [-0.1135]], dtype=float32),\n",
              " array([-0.5516], dtype=float32)]"
            ]
          },
          "metadata": {},
          "execution_count": 22
        }
      ]
    },
    {
      "cell_type": "code",
      "source": [
        "pre_hidden = np.dot(x,W[0])+W[1]\n",
        "hidden = 1/(1+np.exp(-pre_hidden))\n",
        "out = np.dot(hidden,W[2])+W[3]\n",
        "out"
      ],
      "metadata": {
        "colab": {
          "base_uri": "https://localhost:8080/"
        },
        "id": "DXg4uKuQ7q5c",
        "outputId": "5cac993b-e296-4477-aa95-9c022beb6920"
      },
      "execution_count": 25,
      "outputs": [
        {
          "output_type": "execute_result",
          "data": {
            "text/plain": [
              "array([[-0.57683484]])"
            ]
          },
          "metadata": {},
          "execution_count": 25
        }
      ]
    }
  ]
}