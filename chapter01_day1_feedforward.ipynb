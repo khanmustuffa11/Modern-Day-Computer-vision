{
 "cells": [
  {
   "cell_type": "code",
   "execution_count": 4,
   "metadata": {},
   "outputs": [],
   "source": [
    "import numpy as np\n",
    "import math\n",
    "import latexify\n"
   ]
  },
  {
   "cell_type": "code",
   "execution_count": 2,
   "metadata": {},
   "outputs": [],
   "source": [
    "# Feedforward network with 2 inputs and 1 hidden layer \n",
    "def feedforward(inputs, outputs, weights):\n",
    "    pre_hidden = np.dot(inputs, weights[0]) + weights[1]\n",
    "    hidden = 1/(1 + np.exp(- pre_hidden))\n",
    "    pred_out = np.dot(hidden, weights[2]) + weights[3]\n",
    "    mean_squared_error = np.mean(np.square(pred_out - outputs))\n",
    "    return mean_squared_error\n",
    "    "
   ]
  },
  {
   "cell_type": "code",
   "execution_count": 6,
   "metadata": {},
   "outputs": [
    {
     "data": {
      "text/latex": [
       "$$ \\displaystyle \\mathrm{tanh}(x) = \\frac{\\exp{\\left({x}\\right)} - \\exp{\\left({-x}\\right)}}{\\exp{\\left({x}\\right)} + \\exp{\\left({-x}\\right)}} $$"
      ],
      "text/plain": [
       "<latexify.frontend.LatexifiedFunction at 0x2431d4bb160>"
      ]
     },
     "execution_count": 6,
     "metadata": {},
     "output_type": "execute_result"
    }
   ],
   "source": [
    "# Different Activation Functions\n",
    "\n",
    "## Tanh Activation Function ##\n",
    "@latexify.with_latex\n",
    "def tanh(x):\n",
    "    return (np.exp(x) - np.exp(-x))/ (np.exp(x) + np.exp(-x))\n",
    "tanh\n"
   ]
  },
  {
   "cell_type": "code",
   "execution_count": 14,
   "metadata": {},
   "outputs": [
    {
     "data": {
      "text/latex": [
       "$$ \\displaystyle \\mathrm{relu}(x) = \\mathrm{where}\\left({x > {0}}, x, {0}\\right) $$"
      ],
      "text/plain": [
       "<latexify.frontend.LatexifiedFunction at 0x2431d4bbe50>"
      ]
     },
     "execution_count": 14,
     "metadata": {},
     "output_type": "execute_result"
    }
   ],
   "source": [
    "## ReLU Activation Function\n",
    "@latexify.with_latex\n",
    "def relu(x):\n",
    "    return np.where(x>0, x, 0)\n",
    "relu"
   ]
  },
  {
   "cell_type": "code",
   "execution_count": 11,
   "metadata": {},
   "outputs": [
    {
     "data": {
      "text/latex": [
       "$$ \\displaystyle \\mathrm{softmax}(x) = \\frac{\\exp{\\left({x}\\right)}}{\\sum \\left({\\exp{\\left({x}\\right)}}\\right)} $$"
      ],
      "text/plain": [
       "<latexify.frontend.LatexifiedFunction at 0x2431d458850>"
      ]
     },
     "execution_count": 11,
     "metadata": {},
     "output_type": "execute_result"
    }
   ],
   "source": [
    "# Softmax Activation Function\n",
    "@latexify.with_latex\n",
    "def softmax(x):\n",
    "    return np.exp(x)/ np.sum(np.exp(x))\n",
    "softmax"
   ]
  },
  {
   "cell_type": "markdown",
   "metadata": {},
   "source": [
    "### Loss Function used in Code \n",
    "\n",
    "Similar to the mean squared error, the mean absolute error is generally\n",
    "employed on continuous variables."
   ]
  },
  {
   "cell_type": "code",
   "execution_count": 12,
   "metadata": {},
   "outputs": [
    {
     "data": {
      "text/latex": [
       "$$ \\displaystyle \\mathrm{mse}(p, y) = \\mathrm{mean}\\left(\\mathrm{square}\\left(p - y\\right)\\right) $$"
      ],
      "text/plain": [
       "<latexify.frontend.LatexifiedFunction at 0x2431d4bafb0>"
      ]
     },
     "execution_count": 12,
     "metadata": {},
     "output_type": "execute_result"
    }
   ],
   "source": [
    "# Mean Squared Error\n",
    "@latexify.with_latex\n",
    "def mse(p, y):\n",
    "    return np.mean(np.square(p - y))\n",
    "\n",
    "mse\n",
    "    "
   ]
  },
  {
   "cell_type": "code",
   "execution_count": 15,
   "metadata": {},
   "outputs": [
    {
     "data": {
      "text/latex": [
       "$$ \\displaystyle \\mathrm{mae}(p, y) = \\mathrm{mean}\\left(\\left|{p - y}\\right|\\right) $$"
      ],
      "text/plain": [
       "<latexify.frontend.LatexifiedFunction at 0x2431d4bab00>"
      ]
     },
     "execution_count": 15,
     "metadata": {},
     "output_type": "execute_result"
    }
   ],
   "source": [
    "# Mean Absoulte Error\n",
    "\n",
    "@latexify.with_latex\n",
    "def mae(p, y):\n",
    "    return np.mean(np.abs(p - y))\n",
    "mae"
   ]
  },
  {
   "cell_type": "code",
   "execution_count": 16,
   "metadata": {},
   "outputs": [
    {
     "data": {
      "text/latex": [
       "$$ \\displaystyle \\mathrm{binary_cross_entropy}(p, y) = -\\mathrm{mean}\\left(\\sum \\left({y \\log{\\left({p}\\right)} + \\left( {1} - y \\right) \\log{\\left({{1} - p}\\right)}}\\right)\\right) $$"
      ],
      "text/plain": [
       "<latexify.frontend.LatexifiedFunction at 0x2431d459240>"
      ]
     },
     "execution_count": 16,
     "metadata": {},
     "output_type": "execute_result"
    }
   ],
   "source": [
    "# Binary Cross Entropy\n",
    "@latexify.with_latex\n",
    "def binary_cross_entropy(p, y):\n",
    "    return -np.mean(np.sum((y*np.log(p) + (1-y)*np.log(1-p))))\n",
    "binary_cross_entropy"
   ]
  },
  {
   "cell_type": "code",
   "execution_count": 19,
   "metadata": {},
   "outputs": [
    {
     "data": {
      "text/latex": [
       "$$ \\displaystyle \\mathrm{categorical_cross_entropy}(p, y) = -\\mathrm{mean}\\left(\\sum \\left({y \\log{\\left({p}\\right)}}\\right)\\right) $$"
      ],
      "text/plain": [
       "<latexify.frontend.LatexifiedFunction at 0x2431d4bbeb0>"
      ]
     },
     "execution_count": 19,
     "metadata": {},
     "output_type": "execute_result"
    }
   ],
   "source": [
    "# Cateorical Cross-entropy\n",
    "@latexify.with_latex\n",
    "def categorical_cross_entropy(p, y):\n",
    "    return -np.mean(np.sum(y*np.log(p)))\n",
    "categorical_cross_entropy"
   ]
  },
  {
   "cell_type": "code",
   "execution_count": null,
   "metadata": {},
   "outputs": [],
   "source": []
  }
 ],
 "metadata": {
  "kernelspec": {
   "display_name": ".tf",
   "language": "python",
   "name": "python3"
  },
  "language_info": {
   "codemirror_mode": {
    "name": "ipython",
    "version": 3
   },
   "file_extension": ".py",
   "mimetype": "text/x-python",
   "name": "python",
   "nbconvert_exporter": "python",
   "pygments_lexer": "ipython3",
   "version": "3.10.10"
  },
  "orig_nbformat": 4
 },
 "nbformat": 4,
 "nbformat_minor": 2
}
